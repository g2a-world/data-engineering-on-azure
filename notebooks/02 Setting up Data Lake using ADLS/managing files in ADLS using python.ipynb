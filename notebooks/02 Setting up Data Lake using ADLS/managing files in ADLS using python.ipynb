{
 "cells": [
  {
   "cell_type": "code",
   "execution_count": null,
   "metadata": {},
   "outputs": [],
   "source": [
    "#install the Azure Blob Storage client library for Python by using the pip install command\n",
    "\n",
    "pip install azure-storage-blob"
   ]
  },
  {
   "cell_type": "code",
   "execution_count": null,
   "metadata": {},
   "outputs": [],
   "source": [
    "import os\n",
    "from azure.storage.blob import BlobServiceClient, BlobClient\n"
   ]
  },
  {
   "cell_type": "code",
   "execution_count": null,
   "metadata": {},
   "outputs": [],
   "source": [
    "#In the storage account menu pane (In Azure Portal), under Security + networking, select Access keys. Here, you can view the account access keys and the complete connection string for each key.\n",
    "os.environ['AZURE_STORAGE_CONNECTION_STRING']=\"<connection_string>\" \n",
    "connect_str = os.getenv('AZURE_STORAGE_CONNECTION_STRING')"
   ]
  },
  {
   "cell_type": "code",
   "execution_count": null,
   "metadata": {},
   "outputs": [],
   "source": [
    "#Create the BlobServiceClient object which will be used to create a container client\n",
    "blob_service_client = BlobServiceClient.from_connection_string(connect_str)"
   ]
  },
  {
   "cell_type": "code",
   "execution_count": null,
   "metadata": {},
   "outputs": [],
   "source": [
    " # Create a relevant name for the container\n",
    "container_name = 'azuresamplecontainer'"
   ]
  },
  {
   "cell_type": "code",
   "execution_count": null,
   "metadata": {},
   "outputs": [],
   "source": [
    "# Create the container\n",
    "container_client = blob_service_client.create_container(container_name)"
   ]
  },
  {
   "cell_type": "code",
   "execution_count": null,
   "metadata": {},
   "outputs": [],
   "source": [
    "# Create a blob client using the local file name as the name for the blob\n",
    "blob_name=\"retail\"\n",
    "blob_client = blob_service_client.get_blob_client(container=container_name, blob=blob_name)"
   ]
  },
  {
   "cell_type": "code",
   "execution_count": null,
   "metadata": {},
   "outputs": [],
   "source": [
    "# Upload the file\n",
    "with open(r\"C:\\Users\\FL_LPT-318\\data\\retail_db\\departments\\part-00000\", \"rb\") as data:\n",
    "    blob_client.upload_blob(data)"
   ]
  },
  {
   "cell_type": "code",
   "execution_count": null,
   "metadata": {},
   "outputs": [],
   "source": [
    "#To list blobs\n",
    "container_client = blob_service_client.get_container_client(container_name)"
   ]
  },
  {
   "cell_type": "code",
   "execution_count": null,
   "metadata": {},
   "outputs": [],
   "source": [
    "blob_list = container_client.list_blobs()\n",
    "for blob in blob_list:\n",
    "    print(\"\\t\" + blob.name)"
   ]
  }
 ],
 "metadata": {
  "kernelspec": {
   "display_name": "Python 3.9.12 64-bit",
   "language": "python",
   "name": "python3"
  },
  "language_info": {
   "name": "python",
   "version": "3.9.12"
  },
  "orig_nbformat": 4,
  "vscode": {
   "interpreter": {
    "hash": "0702aae35e9df5ec9c62b98844f3189b4753bfe088383f38400f5450d715740d"
   }
  }
 },
 "nbformat": 4,
 "nbformat_minor": 2
}
