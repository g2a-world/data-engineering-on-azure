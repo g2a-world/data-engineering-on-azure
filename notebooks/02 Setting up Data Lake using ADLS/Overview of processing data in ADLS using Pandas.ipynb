{
 "cells": [
  {
   "cell_type": "code",
   "execution_count": null,
   "metadata": {},
   "outputs": [],
   "source": [
    "pip install pandas"
   ]
  },
  {
   "cell_type": "code",
   "execution_count": null,
   "metadata": {},
   "outputs": [],
   "source": [
    "pip install fsspec"
   ]
  },
  {
   "cell_type": "code",
   "execution_count": null,
   "metadata": {},
   "outputs": [],
   "source": [
    "pip install adlfs"
   ]
  },
  {
   "cell_type": "code",
   "execution_count": null,
   "metadata": {},
   "outputs": [],
   "source": [
    "from azure.storage.blob import BlobServiceClient\n",
    "import pandas as pd\n",
    "columns = ['order_id', 'order_date', 'order_customer_id', 'order_status']\n",
    "df = pd.read_csv('abfs://<container-name>@<storage-account-name>.dfs.core.windows.net/<path/<path>', names=columns, sep=',')\n",
    "print(df)"
   ]
  },
  {
   "cell_type": "code",
   "execution_count": null,
   "metadata": {},
   "outputs": [],
   "source": [
    "import pandas as pd\n",
    "columns = ['order_id', 'order_date', 'order_customer_id', 'order_status']\n",
    "df = pd.read_csv(r'C:\\Users\\FL_LPT-318\\data\\retail_db\\orders\\part-00000', names=columns)\n",
    "print(df)"
   ]
  },
  {
   "cell_type": "code",
   "execution_count": null,
   "metadata": {},
   "outputs": [],
   "source": [
    "pip install pyarrow"
   ]
  },
  {
   "cell_type": "code",
   "execution_count": null,
   "metadata": {},
   "outputs": [],
   "source": [
    "df.to_parquet(\n",
    "    'abfs://demoazure@covidporjdl.dfs.core.windows.net/data/retail_db_parquet/orders/part-00000.snappy.parquet',\n",
    "    index=False\n",
    ")"
   ]
  },
  {
   "cell_type": "code",
   "execution_count": null,
   "metadata": {},
   "outputs": [],
   "source": [
    "df = pd.read_parquet('abfs://demoazure@covidporjdl.dfs.core.windows.net/data/retail_db_parquet/orders/part-00000.snappy.parquet')\n",
    "print(df)"
   ]
  }
 ],
 "metadata": {
  "kernelspec": {
   "display_name": "Python 3.9.12 64-bit",
   "language": "python",
   "name": "python3"
  },
  "language_info": {
   "name": "python",
   "version": "3.9.12"
  },
  "orig_nbformat": 4,
  "vscode": {
   "interpreter": {
    "hash": "0702aae35e9df5ec9c62b98844f3189b4753bfe088383f38400f5450d715740d"
   }
  }
 },
 "nbformat": 4,
 "nbformat_minor": 2
}
